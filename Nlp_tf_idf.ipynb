{
  "nbformat": 4,
  "nbformat_minor": 0,
  "metadata": {
    "colab": {
      "provenance": [],
      "collapsed_sections": []
    },
    "kernelspec": {
      "name": "python3",
      "display_name": "Python 3"
    },
    "language_info": {
      "name": "python"
    }
  },
  "cells": [
    {
      "cell_type": "code",
      "source": [
        "import re\n",
        "import math\n",
        "import numpy as np"
      ],
      "metadata": {
        "id": "XWJNliGLDHLq"
      },
      "execution_count": null,
      "outputs": []
    },
    {
      "cell_type": "markdown",
      "source": [
        "docs to compute similarity between each other"
      ],
      "metadata": {
        "id": "Tl4a5589z3Zx"
      }
    },
    {
      "cell_type": "code",
      "source": [
        "MessiDoc=\"Lionel Andrés Messi , born on 24 June 1987, is an Argentine footballer who currently plays for Barcelona and the Argentine national team. He is one of the best football players of his generation and is frequently considered as the world's best contemporary player. Lionel Messi, whose playing style and ability have drawn comparisons to Diego Maradona, received Ballon d'Or and FIFA World Player of the Year nominations by the age of 21 and won both by the age of 22. Diego Maradona once declared that Messi was his successor.Lionel Messi's talent was early detected by his father. When he began playing with the local team, his potential was quickly identified by Barcelona . At the age of 11, he was diagnosed with a growth hormone deficiency, which is a medical condition in which the body does not produce enough growth hormone and whose treatment nessecitates a lot of money. He left Rosario-based Newell's Old Boys's youth team in 2000 and moved with his family to Europe, as Barcelona offered treatment for his growth hormone deficiency. Making his debut in the 2004–05 season, he broke the La Liga record for the youngest footballer to play a league game, and also the youngest to score a league goal. Major honours soon followed as Barcelona won La Liga in Messi's debut season, and won a double of the league and Champions League in 2006. His breakthrough season was in 2006–07; he became a first team regular, scoring a hat-trick in El Clásico and finishing with 14 goals in 26 league games. Perhaps his most successful season was the 2008–09 season, in which Messi scored 38 goals to play an integral part in a treble-winning campaign.\""
      ],
      "metadata": {
        "id": "Tuf6R5u8g1WG"
      },
      "execution_count": null,
      "outputs": []
    },
    {
      "cell_type": "code",
      "source": [
        "RonaldoDoc=\"Cristiano Ronaldo dos Santos Aveiro, born on February 5th,\"\\\n",
        "\"1985 and commonly known as Cristiano Ronaldo,\"\\\n",
        "\"is a Portuguese footballer who plays as a forward for Spanish club Real Madrid and serves as captain of the Portuguese national team.\\n\"\\\n",
        "\"Ronaldo currently holds the distinction of being the most expensive player in football \"\\\n",
        "\"history after having transferred to Real Madrid from Manchester United in a deal worth £80 million (€94m, US$132m).\\n\"\\\n",
        "\"His contract with Real Madrid is believed to have made him the highest-paid football player in the world.\\n\"\\\n",
        "\"Ronaldo began his career as a youth player for Andorinha, where he played for two years, then moved to Nacional.\\n\"\\\n",
        "\"In 1997, he made a move to Portuguese giants Sporting CP.\\n\"\\\n",
        "\"Ronaldo's precocious talent caught the attention of Manchester United manager Alex Ferguson and \"\\\n",
        "\"he signed the 18-year-old for £12.24 million in 2003. The following season, Ronaldo won his first club honour, the FA Cup,\"\\\n",
        "\"and reached the Euro 2004 final with Portugal, in which tournament he scored his first international goal.\\n\"\\\n",
        "\"In 2008, Ronaldo won the Champions League with United, and was named player of the tournament.\\n\"\\\n",
        "\"He was named the FIFPro World Player of the Year and the FIFA World Player of the Year, \"\\\n",
        "\"in addition to becoming Manchester United's first Ballon d'Or winner in 40 years.\\n\"\\\n",
        "\"Three-time Ballon d'Or winner Johan Cruyff said in an interview on 2 April 2008, \"\\\n",
        "\"Ronaldo is better than George Best and Denis Law, who were two brilliant and great players in the history of United.\" "
      ],
      "metadata": {
        "id": "521ozOKrZSOp"
      },
      "execution_count": null,
      "outputs": []
    },
    {
      "cell_type": "code",
      "source": [
        "MohamedDoc=\"Mohamed Salah is an Egyptian international football player\"\\\n",
        "\"who plays in the center of the right wing with Liverpool and Egypt.\\n\"\\\n",
        "\"He is one of the most prominent Arab and African players.\\n\"\\\n",
        "\"He has won many awards,\"\\\n",
        "\"most notably the 2017 African Footballer of the Year award,\"\\\n",
        "\"the English Premier League Player of the Year 2018,\"\\\n",
        "\"in addition to many other individual awards and numerous titles.\\n\"\\\n",
        "\"He began his career as a junior in the Arab Contractors Club until he was promoted to the first team.\\n\"\\\n",
        "\"He then became a professional in Europe and joined Basel, Chelsea, Fiorentina, Roma and his current club Liverpool.\\n\"\\\n",
        "\"Salah won his first European club Basel with many titles, and won the Swiss Super League title for the 2012-2013 \"\\\n",
        "\"season and the Swiss Super League Player of the Year award in 2013.\\n\"\\\n",
        "\"Mohamed Salah joined Chelsea and won the Premier League\"\\\n",
        "\" title for the 2014-2015 season as well as the English Premier League 2014-2015.\\n\"\\\n",
        "\"But did not participate mainly with the team and then transferred\"\\\n",
        "\" on loan to Fiorentina Italian and then moved to the club and participated with\"\\\n",
        "\"  Roma throughout the years 2015-16 and 2016-17 in 83 games and scored 34 goals.\""
      ],
      "metadata": {
        "id": "Bdg98Q5GWxN9"
      },
      "execution_count": null,
      "outputs": []
    },
    {
      "cell_type": "code",
      "execution_count": null,
      "metadata": {
        "id": "47hLA7a5z810"
      },
      "outputs": [],
      "source": [
        "CovidDoc=\"What is coronavirus?\\n\"\\\n",
        "\"Coronaviruses are a family of viruses that can cause respiratory illness in humans.\\n\"\\\n",
        "\"They are called “corona” because of crown-like spikes on the surface of the virus.\\n\"\\\n",
        "\"Severe acute respiratory syndrome (SARS), Middle East respiratory syndrome (MERS) \"\\\n",
        "\"and the common cold are examples of coronaviruses that cause illness in humans.\\n\"\\\n",
        "\"The new strain of coronavirus — SARS-CoV-2 — was first reported in Wuhan, China in December 2019.\\n\"\\\n",
        "\"It has since spread to every country around the world.\\n\"\\\n",
        "\"How do you get COVID-19?\\n\"\\\n",
        "\"SARS-CoV-2, the virus that causes COVID-19,\"\\\n",
        "\" enters your body through your mouth,\"\\\n",
        "\" nose or eyes (directly from the airborne droplets\"\\\n",
        "\" or from the transfer of the virus from your hands to your face).\\n\"\\\n",
        "\"It then travels to the back of your nasal passages and mucous membrane in the back of your throat.\"\\\n",
        "\" It attaches to cells there, begins to multiply \"\\\n",
        "\" and moves into lung tissue. From there, \"\\\n",
        "\"the virus can spread to other body tissues.\""
      ]
    },
    {
      "cell_type": "code",
      "source": [
        "CancerDoc=\"What Is Cancer?\\n\"\\\n",
        "\"Cancer affects 1 in 3 people in the United States.\\n\"\\\n",
        "\"Chances are that you or someone you know has been affected by cancer.\\n\"\\\n",
        "\"Here is some information to help you better understand what cancer is.\\n\"\\\n",
        "\"You are made up of trillions of cells that over your lifetime normally grow and divide as needed.\\n\"\\\n",
        "\"When cells are abnormal or get old, they usually die.\\n\"\\\n",
        "\"Cancer starts when something goes wrong in this process and your cells\"\\\n",
        "\"keep making new cells and the old or abnormal ones don't die when they should.\\n\"\\\n",
        "\"As the cancer cells grow out of control, they can crowd out normal cells.\\n\"\\\n",
        "\"This makes it hard for your body to work the way it should.\\n\"\\\n",
        "\"For many people, cancer can be treated successfully.\\n\"\\\n",
        "\"In fact, more people than ever before lead full lives after cancer treatment.\\n\"\\\n",
        "\"How does cancer spread?\\n\"\\\n",
        "\"Cancer can spread from where it started (the primary site) to other parts of the body.\\n\"\\\n",
        "\"When cancer cells break away from a tumor, they can travel to other areas of the body through either the bloodstream or the lymph system.\\n\"\\\n",
        "\"Cancer cells that travel through the bloodstream may to reach distant organs.\\n\"\\\n",
        "\"If they travel through the lymph system, the cancer cells may end up in lymph nodes.\\n\"\\\n",
        "\"Either way, most of the escaped cancer cells die or are killed before they can start growing somewhere else.\\n\"\\\n",
        "\"But one or two might settle in a new area, begin to grow, and form new tumors.\\n\"\\\n",
        "\"This spread of cancer to a new part of the body is called metastasis.\""
      ],
      "metadata": {
        "id": "FdxFe3lt7Ftd"
      },
      "execution_count": null,
      "outputs": []
    },
    {
      "cell_type": "code",
      "source": [
        "def sum(_list,end,start=0):\n",
        "  sum=0\n",
        "  for i in range(start,end):\n",
        "    if(_list[i]):\n",
        "      sum+=1\n",
        "  return sum  "
      ],
      "metadata": {
        "id": "rS5_1Y1okC_c"
      },
      "execution_count": null,
      "outputs": []
    },
    {
      "cell_type": "code",
      "source": [
        "def preprocessing(str):\n",
        "  str=str.lower()\n",
        "  str=re.sub('\\n', ' ', str)\n",
        "  str=re.sub('[^a-zA-Z0-9\\s]*', '', str)\n",
        "  return str"
      ],
      "metadata": {
        "id": "JAnJ90IDBUqP"
      },
      "execution_count": null,
      "outputs": []
    },
    {
      "cell_type": "code",
      "source": [
        "def token(*docs):\n",
        "    corpus={}\n",
        "    for doc in docs:\n",
        "      for word in doc.split():\n",
        "        if(not (word in corpus)):\n",
        "          #each doc has 1 count 1  TF 1 TFIDF and 1 IDF for all docs\n",
        "           corpus[word] = [0]*(len(docs)*3+1)\n",
        "    for Cindex,doc in enumerate(docs):\n",
        "      TFIndex=Cindex+len(docs)\n",
        "      IDFIndex=len(docs)*2\n",
        "      TFIDFIndex=len(docs)*2+1+Cindex\n",
        "      words=doc.split()\n",
        "      for word in words:\n",
        "        if(word in corpus):\n",
        "           corpus.get(word)[Cindex]+=1\n",
        "           corpus.get(word)[TFIndex]=corpus.get(word)[Cindex]/len(words)\n",
        "           corpus.get(word)[IDFIndex]=math.log10(len(docs)/sum(corpus.get(word),end=len(docs)))\n",
        "           corpus.get(word)[TFIDFIndex]=corpus.get(word)[IDFIndex]*corpus.get(word)[TFIndex]\n",
        "    return corpus    "
      ],
      "metadata": {
        "id": "KRc0__QgfcGO"
      },
      "execution_count": null,
      "outputs": []
    },
    {
      "cell_type": "code",
      "source": [
        "def tokenTest(corpus,doc):\n",
        "    Testcorpus={}\n",
        "    Ncolumn=len(corpus.get( list(corpus.keys())[0]))\n",
        "    Ndocs=int((Ncolumn-1)/3)\n",
        "    for i in corpus.keys():\n",
        "      Testcorpus[i]=[0]*4\n",
        "      Testcorpus.get(i)[2]=corpus.get(i)[Ndocs*2]\n",
        "      words=doc.split()\n",
        "    for word in words:\n",
        "      if(word in Testcorpus):\n",
        "          Testcorpus.get(word)[0]+=1\n",
        "          Testcorpus.get(word)[1]=Testcorpus.get(word)[0]/len(words)\n",
        "          Testcorpus.get(word)[3]=Testcorpus.get(word)[2]*Testcorpus.get(word)[1]\n",
        "    return Testcorpus  "
      ],
      "metadata": {
        "id": "2HNiu2PqI7W8"
      },
      "execution_count": null,
      "outputs": []
    },
    {
      "cell_type": "code",
      "source": [
        "def getTFIDF(Mcorpus):\n",
        "     VMcorpus=np.array(list(Mcorpus.values()))\n",
        "     Ncolumn=len(Mcorpus.get( list(Mcorpus.keys())[0]))\n",
        "     Ndocs=int((Ncolumn-1)/3)\n",
        "     for i in range(-Ndocs,0):\n",
        "       x=VMcorpus[:,i]\n",
        "       yield x"
      ],
      "metadata": {
        "id": "LE-UzkmOKPYm"
      },
      "execution_count": null,
      "outputs": []
    },
    {
      "cell_type": "code",
      "source": [
        "def similarity(*TFIDFs,test):\n",
        "  scores=[]\n",
        "  goal=np.array(list(test))\n",
        "  for curTFIDF in TFIDFs:\n",
        "   scores.append(np.sum(np.square(curTFIDF - goal)))\n",
        "  return scores "
      ],
      "metadata": {
        "id": "Jwn2fuBCRl1M"
      },
      "execution_count": null,
      "outputs": []
    },
    {
      "cell_type": "code",
      "source": [
        "RonaldoDoc= preprocessing(RonaldoDoc)\n",
        "MohamedDoc= preprocessing(MohamedDoc)\n",
        "CovidDoc= preprocessing(CovidDoc)\n",
        "CancerDoc= preprocessing(CancerDoc)\n",
        "MessiDoc=preprocessing(MessiDoc)\n",
        "corpus=token(RonaldoDoc,MohamedDoc,CovidDoc,CancerDoc)\n",
        "test=tokenTest(corpus,MessiDoc)"
      ],
      "metadata": {
        "id": "rmrRfyBSI1o0"
      },
      "execution_count": null,
      "outputs": []
    },
    {
      "cell_type": "code",
      "source": [
        "RonaldoTFIDF,MohamedTFIDF,CovidTFIDF,CancerTFIDF=getTFIDF(corpus)\n",
        "MessiTFIDF=getTFIDF(test)"
      ],
      "metadata": {
        "id": "fT5I9sW1bmmb"
      },
      "execution_count": null,
      "outputs": []
    },
    {
      "cell_type": "markdown",
      "source": [
        "similarity between 4 docs Ronaldo,Mohamed,Covid,Cancer with test_doc=Messi\n"
      ],
      "metadata": {
        "id": "y_5SzspwfND2"
      }
    },
    {
      "cell_type": "code",
      "source": [
        "similarity(RonaldoTFIDF,MohamedTFIDF,CovidTFIDF,CancerTFIDF,test=MessiTFIDF)"
      ],
      "metadata": {
        "colab": {
          "base_uri": "https://localhost:8080/"
        },
        "id": "Tinwl6Ktb1TW",
        "outputId": "0d5db531-3069-49ce-b571-520117f74970"
      },
      "execution_count": null,
      "outputs": [
        {
          "output_type": "execute_result",
          "data": {
            "text/plain": [
              "[0.005238621758992566,\n",
              " 0.002999680070343167,\n",
              " 0.0037035034034565623,\n",
              " 0.0029520841121390834]"
            ]
          },
          "metadata": {},
          "execution_count": 104
        }
      ]
    }
  ]
}